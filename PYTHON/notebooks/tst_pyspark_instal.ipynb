{
 "cells": [
  {
   "cell_type": "code",
   "execution_count": 1,
   "metadata": {},
   "outputs": [],
   "source": [
    "import prjmod as pm\n",
    "import prjmod.commons as commons\n",
    "from pyspark.sql import SparkSession\n",
    "import pandas as pd"
   ]
  },
  {
   "cell_type": "code",
   "execution_count": 2,
   "metadata": {},
   "outputs": [],
   "source": [
    "\n",
    "spark = SparkSession.builder.getOrCreate()"
   ]
  },
  {
   "cell_type": "code",
   "execution_count": 3,
   "metadata": {},
   "outputs": [
    {
     "name": "stdout",
     "output_type": "stream",
     "text": [
      "[]\n"
     ]
    }
   ],
   "source": [
    "# Print the tables in the catalog\n",
    "print(spark.catalog.listTables())"
   ]
  },
  {
   "cell_type": "markdown",
   "metadata": {},
   "source": [
    "# Reading Data \n",
    "\n",
    "## Local file to Spark DataFrame (SDF)"
   ]
  },
  {
   "cell_type": "code",
   "execution_count": 4,
   "metadata": {},
   "outputs": [],
   "source": [
    "sdf_flights = spark.read.csv(commons.DL_FILE_FLIGHTS, header=True, sep = ';')"
   ]
  },
  {
   "cell_type": "code",
   "execution_count": 5,
   "metadata": {},
   "outputs": [
    {
     "name": "stdout",
     "output_type": "stream",
     "text": [
      "+---+----+-----+---+--------+--------------+---------+--------+--------------+---------+-------+------+-------+------+----+--------+--------+----+------+-------------------+\n",
      "|_c0|year|month|day|dep_time|sched_dep_time|dep_delay|arr_time|sched_arr_time|arr_delay|carrier|flight|tailnum|origin|dest|air_time|distance|hour|minute|          time_hour|\n",
      "+---+----+-----+---+--------+--------------+---------+--------+--------------+---------+-------+------+-------+------+----+--------+--------+----+------+-------------------+\n",
      "|  1|2013|    1|  1|     517|           515|        2|     830|           819|       11|     UA|  1545| N14228|   EWR| IAH|     227|    1400|   5|    15|2013-01-01 05:00:00|\n",
      "|  2|2013|    1|  1|     533|           529|        4|     850|           830|       20|     UA|  1714| N24211|   LGA| IAH|     227|    1416|   5|    29|2013-01-01 05:00:00|\n",
      "|  3|2013|    1|  1|     542|           540|        2|     923|           850|       33|     AA|  1141| N619AA|   JFK| MIA|     160|    1089|   5|    40|2013-01-01 05:00:00|\n",
      "|  4|2013|    1|  1|     544|           545|       -1|    1004|          1022|      -18|     B6|   725| N804JB|   JFK| BQN|     183|    1576|   5|    45|2013-01-01 05:00:00|\n",
      "|  5|2013|    1|  1|     554|           600|       -6|     812|           837|      -25|     DL|   461| N668DN|   LGA| ATL|     116|     762|   6|     0|2013-01-01 06:00:00|\n",
      "|  6|2013|    1|  1|     554|           558|       -4|     740|           728|       12|     UA|  1696| N39463|   EWR| ORD|     150|     719|   5|    58|2013-01-01 05:00:00|\n",
      "|  7|2013|    1|  1|     555|           600|       -5|     913|           854|       19|     B6|   507| N516JB|   EWR| FLL|     158|    1065|   6|     0|2013-01-01 06:00:00|\n",
      "|  8|2013|    1|  1|     557|           600|       -3|     709|           723|      -14|     EV|  5708| N829AS|   LGA| IAD|      53|     229|   6|     0|2013-01-01 06:00:00|\n",
      "|  9|2013|    1|  1|     557|           600|       -3|     838|           846|       -8|     B6|    79| N593JB|   JFK| MCO|     140|     944|   6|     0|2013-01-01 06:00:00|\n",
      "| 10|2013|    1|  1|     558|           600|       -2|     753|           745|        8|     AA|   301| N3ALAA|   LGA| ORD|     138|     733|   6|     0|2013-01-01 06:00:00|\n",
      "| 11|2013|    1|  1|     558|           600|       -2|     849|           851|       -2|     B6|    49| N793JB|   JFK| PBI|     149|    1028|   6|     0|2013-01-01 06:00:00|\n",
      "| 12|2013|    1|  1|     558|           600|       -2|     853|           856|       -3|     B6|    71| N657JB|   JFK| TPA|     158|    1005|   6|     0|2013-01-01 06:00:00|\n",
      "| 13|2013|    1|  1|     558|           600|       -2|     924|           917|        7|     UA|   194| N29129|   JFK| LAX|     345|    2475|   6|     0|2013-01-01 06:00:00|\n",
      "| 14|2013|    1|  1|     558|           600|       -2|     923|           937|      -14|     UA|  1124| N53441|   EWR| SFO|     361|    2565|   6|     0|2013-01-01 06:00:00|\n",
      "| 15|2013|    1|  1|     559|           600|       -1|     941|           910|       31|     AA|   707| N3DUAA|   LGA| DFW|     257|    1389|   6|     0|2013-01-01 06:00:00|\n",
      "| 16|2013|    1|  1|     559|           559|        0|     702|           706|       -4|     B6|  1806| N708JB|   JFK| BOS|      44|     187|   5|    59|2013-01-01 05:00:00|\n",
      "| 17|2013|    1|  1|     559|           600|       -1|     854|           902|       -8|     UA|  1187| N76515|   EWR| LAS|     337|    2227|   6|     0|2013-01-01 06:00:00|\n",
      "| 18|2013|    1|  1|     600|           600|        0|     851|           858|       -7|     B6|   371| N595JB|   LGA| FLL|     152|    1076|   6|     0|2013-01-01 06:00:00|\n",
      "| 19|2013|    1|  1|     600|           600|        0|     837|           825|       12|     MQ|  4650| N542MQ|   LGA| ATL|     134|     762|   6|     0|2013-01-01 06:00:00|\n",
      "| 20|2013|    1|  1|     601|           600|        1|     844|           850|       -6|     B6|   343| N644JB|   EWR| PBI|     147|    1023|   6|     0|2013-01-01 06:00:00|\n",
      "+---+----+-----+---+--------+--------------+---------+--------+--------------+---------+-------+------+-------+------+----+--------+--------+----+------+-------------------+\n",
      "only showing top 20 rows\n",
      "\n"
     ]
    }
   ],
   "source": [
    "sdf_flights.show()"
   ]
  },
  {
   "cell_type": "code",
   "execution_count": 6,
   "metadata": {},
   "outputs": [
    {
     "name": "stdout",
     "output_type": "stream",
     "text": [
      "DataFrame[summary: string, _c0: string, year: string, month: string, day: string, dep_time: string, sched_dep_time: string, dep_delay: string, arr_time: string, sched_arr_time: string, arr_delay: string, carrier: string, flight: string, tailnum: string, origin: string, dest: string, air_time: string, distance: string, hour: string, minute: string, time_hour: string]\n"
     ]
    }
   ],
   "source": [
    "print(sdf_flights.describe())"
   ]
  },
  {
   "cell_type": "code",
   "execution_count": 7,
   "metadata": {},
   "outputs": [
    {
     "name": "stdout",
     "output_type": "stream",
     "text": [
      "[Table(name='sdf_flights_temp', database=None, description=None, tableType='TEMPORARY', isTemporary=True)]\n"
     ]
    }
   ],
   "source": [
    "# Add sdf_flights to the catalog\n",
    "sdf_flights.createOrReplaceTempView(\"sdf_flights_temp\")\n",
    "\n",
    "print(spark.catalog.listTables())"
   ]
  },
  {
   "cell_type": "code",
   "execution_count": 17,
   "metadata": {},
   "outputs": [],
   "source": [
    "# Now we can get the data as SDF from the table in the Spark cluster:\n",
    "sdf_flights_frm_table = spark.table('sdf_flights_temp')"
   ]
  },
  {
   "cell_type": "markdown",
   "metadata": {},
   "source": [
    "## SDF to pandas DataFrame (PDF)"
   ]
  },
  {
   "cell_type": "code",
   "execution_count": 8,
   "metadata": {},
   "outputs": [],
   "source": [
    "pdf_flights = sdf_flights.toPandas()"
   ]
  },
  {
   "cell_type": "code",
   "execution_count": 9,
   "metadata": {},
   "outputs": [
    {
     "name": "stdout",
     "output_type": "stream",
     "text": [
      "  _c0  year month day dep_time sched_dep_time dep_delay arr_time  \\\n",
      "0   1  2013     1   1      517            515         2      830   \n",
      "1   2  2013     1   1      533            529         4      850   \n",
      "2   3  2013     1   1      542            540         2      923   \n",
      "3   4  2013     1   1      544            545        -1     1004   \n",
      "4   5  2013     1   1      554            600        -6      812   \n",
      "\n",
      "  sched_arr_time arr_delay carrier flight tailnum origin dest air_time  \\\n",
      "0            819        11      UA   1545  N14228    EWR  IAH      227   \n",
      "1            830        20      UA   1714  N24211    LGA  IAH      227   \n",
      "2            850        33      AA   1141  N619AA    JFK  MIA      160   \n",
      "3           1022       -18      B6    725  N804JB    JFK  BQN      183   \n",
      "4            837       -25      DL    461  N668DN    LGA  ATL      116   \n",
      "\n",
      "  distance hour minute            time_hour  \n",
      "0     1400    5     15  2013-01-01 05:00:00  \n",
      "1     1416    5     29  2013-01-01 05:00:00  \n",
      "2     1089    5     40  2013-01-01 05:00:00  \n",
      "3     1576    5     45  2013-01-01 05:00:00  \n",
      "4      762    6      0  2013-01-01 06:00:00  \n"
     ]
    }
   ],
   "source": [
    "print(pdf_flights.head())"
   ]
  },
  {
   "cell_type": "code",
   "execution_count": 10,
   "metadata": {},
   "outputs": [
    {
     "name": "stdout",
     "output_type": "stream",
     "text": [
      "<class 'pandas.core.frame.DataFrame'>\n",
      "RangeIndex: 336776 entries, 0 to 336775\n",
      "Data columns (total 20 columns):\n",
      " #   Column          Non-Null Count   Dtype \n",
      "---  ------          --------------   ----- \n",
      " 0   _c0             336776 non-null  object\n",
      " 1   year            336776 non-null  object\n",
      " 2   month           336776 non-null  object\n",
      " 3   day             336776 non-null  object\n",
      " 4   dep_time        336776 non-null  object\n",
      " 5   sched_dep_time  336776 non-null  object\n",
      " 6   dep_delay       336776 non-null  object\n",
      " 7   arr_time        336776 non-null  object\n",
      " 8   sched_arr_time  336776 non-null  object\n",
      " 9   arr_delay       336776 non-null  object\n",
      " 10  carrier         336776 non-null  object\n",
      " 11  flight          336776 non-null  object\n",
      " 12  tailnum         336776 non-null  object\n",
      " 13  origin          336776 non-null  object\n",
      " 14  dest            336776 non-null  object\n",
      " 15  air_time        336776 non-null  object\n",
      " 16  distance        336776 non-null  object\n",
      " 17  hour            336776 non-null  object\n",
      " 18  minute          336776 non-null  object\n",
      " 19  time_hour       336776 non-null  object\n",
      "dtypes: object(20)\n",
      "memory usage: 51.4+ MB\n"
     ]
    }
   ],
   "source": [
    "pdf_flights.info()"
   ]
  },
  {
   "cell_type": "markdown",
   "metadata": {},
   "source": [
    "## Pandas to SDF"
   ]
  },
  {
   "cell_type": "code",
   "execution_count": 11,
   "metadata": {},
   "outputs": [],
   "source": [
    "# Create sdf_flights_2 from pd_temp\n",
    "sdf_flights_2 = spark.createDataFrame(pdf_flights.iloc[0:100, :])\n"
   ]
  },
  {
   "cell_type": "code",
   "execution_count": null,
   "metadata": {},
   "outputs": [],
   "source": [
    "sdf_flights_2.show()"
   ]
  },
  {
   "cell_type": "code",
   "execution_count": 13,
   "metadata": {},
   "outputs": [
    {
     "name": "stdout",
     "output_type": "stream",
     "text": [
      "[Table(name='sdf_flights_temp', database=None, description=None, tableType='TEMPORARY', isTemporary=True)]\n"
     ]
    }
   ],
   "source": [
    "# Examine the tables in the catalog\n",
    "print(spark.catalog.listTables())"
   ]
  },
  {
   "cell_type": "code",
   "execution_count": 14,
   "metadata": {},
   "outputs": [
    {
     "name": "stdout",
     "output_type": "stream",
     "text": [
      "[Table(name='sdf_flights_2_temp', database=None, description=None, tableType='TEMPORARY', isTemporary=True), Table(name='sdf_flights_temp', database=None, description=None, tableType='TEMPORARY', isTemporary=True)]\n"
     ]
    }
   ],
   "source": [
    "\n",
    "# Add sdf_flights_2 to the catalog\n",
    "sdf_flights_2.createOrReplaceTempView(\"sdf_flights_2_temp\")\n",
    "\n",
    "# Examine the tables in the catalog again\n",
    "print(spark.catalog.listTables())"
   ]
  },
  {
   "cell_type": "markdown",
   "metadata": {},
   "source": [
    "# Querying Spark Tables with SQL Spark"
   ]
  },
  {
   "cell_type": "code",
   "execution_count": 15,
   "metadata": {},
   "outputs": [
    {
     "name": "stdout",
     "output_type": "stream",
     "text": [
      "DataFrame[_c0: string, year: string, month: string, day: string, dep_time: string, sched_dep_time: string, dep_delay: string, arr_time: string, sched_arr_time: string, arr_delay: string, carrier: string, flight: string, tailnum: string, origin: string, dest: string, air_time: string, distance: string, hour: string, minute: string, time_hour: string]\n"
     ]
    }
   ],
   "source": [
    "flights10 = spark.sql(\"SELECT * FROM sdf_flights_temp LIMIT 10\")\n",
    "\n",
    "print(flights10)"
   ]
  },
  {
   "cell_type": "code",
   "execution_count": 16,
   "metadata": {},
   "outputs": [
    {
     "name": "stdout",
     "output_type": "stream",
     "text": [
      "+---+----+-----+---+--------+--------------+---------+--------+--------------+---------+-------+------+-------+------+----+--------+--------+----+------+-------------------+\n",
      "|_c0|year|month|day|dep_time|sched_dep_time|dep_delay|arr_time|sched_arr_time|arr_delay|carrier|flight|tailnum|origin|dest|air_time|distance|hour|minute|          time_hour|\n",
      "+---+----+-----+---+--------+--------------+---------+--------+--------------+---------+-------+------+-------+------+----+--------+--------+----+------+-------------------+\n",
      "|  1|2013|    1|  1|     517|           515|        2|     830|           819|       11|     UA|  1545| N14228|   EWR| IAH|     227|    1400|   5|    15|2013-01-01 05:00:00|\n",
      "|  2|2013|    1|  1|     533|           529|        4|     850|           830|       20|     UA|  1714| N24211|   LGA| IAH|     227|    1416|   5|    29|2013-01-01 05:00:00|\n",
      "|  3|2013|    1|  1|     542|           540|        2|     923|           850|       33|     AA|  1141| N619AA|   JFK| MIA|     160|    1089|   5|    40|2013-01-01 05:00:00|\n",
      "|  4|2013|    1|  1|     544|           545|       -1|    1004|          1022|      -18|     B6|   725| N804JB|   JFK| BQN|     183|    1576|   5|    45|2013-01-01 05:00:00|\n",
      "|  5|2013|    1|  1|     554|           600|       -6|     812|           837|      -25|     DL|   461| N668DN|   LGA| ATL|     116|     762|   6|     0|2013-01-01 06:00:00|\n",
      "|  6|2013|    1|  1|     554|           558|       -4|     740|           728|       12|     UA|  1696| N39463|   EWR| ORD|     150|     719|   5|    58|2013-01-01 05:00:00|\n",
      "|  7|2013|    1|  1|     555|           600|       -5|     913|           854|       19|     B6|   507| N516JB|   EWR| FLL|     158|    1065|   6|     0|2013-01-01 06:00:00|\n",
      "|  8|2013|    1|  1|     557|           600|       -3|     709|           723|      -14|     EV|  5708| N829AS|   LGA| IAD|      53|     229|   6|     0|2013-01-01 06:00:00|\n",
      "|  9|2013|    1|  1|     557|           600|       -3|     838|           846|       -8|     B6|    79| N593JB|   JFK| MCO|     140|     944|   6|     0|2013-01-01 06:00:00|\n",
      "| 10|2013|    1|  1|     558|           600|       -2|     753|           745|        8|     AA|   301| N3ALAA|   LGA| ORD|     138|     733|   6|     0|2013-01-01 06:00:00|\n",
      "+---+----+-----+---+--------+--------------+---------+--------+--------------+---------+-------+------+-------+------+----+--------+--------+----+------+-------------------+\n",
      "\n"
     ]
    }
   ],
   "source": [
    "flights10.show()"
   ]
  }
 ],
 "metadata": {
  "interpreter": {
   "hash": "e7d1805cf74aaf3c0d16065b69b4acce1ce5d0e02a23802bb00e8000da4a34d5"
  },
  "kernelspec": {
   "display_name": "trainSpark",
   "language": "python",
   "name": "python3"
  },
  "language_info": {
   "codemirror_mode": {
    "name": "ipython",
    "version": 3
   },
   "file_extension": ".py",
   "mimetype": "text/x-python",
   "name": "python",
   "nbconvert_exporter": "python",
   "pygments_lexer": "ipython3",
   "version": "3.7.13"
  },
  "orig_nbformat": 4
 },
 "nbformat": 4,
 "nbformat_minor": 2
}
